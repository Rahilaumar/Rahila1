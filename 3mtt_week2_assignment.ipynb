{
  "nbformat": 4,
  "nbformat_minor": 0,
  "metadata": {
    "colab": {
      "provenance": [],
      "authorship_tag": "ABX9TyP8V5TZ7I3mmyWXOMvZNrsk",
      "include_colab_link": true
    },
    "kernelspec": {
      "name": "python3",
      "display_name": "Python 3"
    },
    "language_info": {
      "name": "python"
    }
  },
  "cells": [
    {
      "cell_type": "markdown",
      "metadata": {
        "id": "view-in-github",
        "colab_type": "text"
      },
      "source": [
        "<a href=\"https://colab.research.google.com/github/Rahilaumar/Rahila1/blob/main/3mtt_week2_assignment.ipynb\" target=\"_parent\"><img src=\"https://colab.research.google.com/assets/colab-badge.svg\" alt=\"Open In Colab\"/></a>"
      ]
    },
    {
      "cell_type": "markdown",
      "source": [
        "Analyze a small dataset using python, documenting the step by step process of the data analysis journey"
      ],
      "metadata": {
        "id": "DsxW-Pl61JF-"
      }
    },
    {
      "cell_type": "markdown",
      "source": [
        "1.Import the library"
      ],
      "metadata": {
        "id": "Lfwz4q1K1tGF"
      }
    },
    {
      "cell_type": "code",
      "source": [
        "##importing as pandas library import pandas as pd"
      ],
      "metadata": {
        "id": "KPdAUwpB2ftP"
      },
      "execution_count": null,
      "outputs": []
    },
    {
      "cell_type": "markdown",
      "source": [
        "2.uploading the dataset"
      ],
      "metadata": {
        "id": "dqLAKPLe3Ij4"
      }
    },
    {
      "cell_type": "code",
      "source": [
        "##uploading a dataset\n",
        "User = pd.read_excel(\"/content/sample_Dataset.cvs\"3mtt\")"
      ],
      "metadata": {
        "id": "8RfbmTYt3Ptq"
      },
      "execution_count": null,
      "outputs": []
    },
    {
      "cell_type": "markdown",
      "source": [
        "3. Display the sample of dataset"
      ],
      "metadata": {
        "id": "18X6y29u6U3V"
      }
    },
    {
      "cell_type": "code",
      "source": [
        "#printing the sample of dataset\n",
        "print_(user)"
      ],
      "metadata": {
        "id": "rluJSrOs6gr5"
      },
      "execution_count": null,
      "outputs": []
    },
    {
      "cell_type": "markdown",
      "source": [],
      "metadata": {
        "id": "ERiLkT4A60AW"
      }
    },
    {
      "cell_type": "markdown",
      "source": [],
      "metadata": {
        "id": "Qr4xRGqS5n8l"
      }
    }
  ]
}